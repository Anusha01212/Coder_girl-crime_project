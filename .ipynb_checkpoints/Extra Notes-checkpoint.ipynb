{
 "cells": [
  {
   "cell_type": "code",
   "execution_count": null,
   "id": "d2f27c0b",
   "metadata": {},
   "outputs": [],
   "source": [
    "hate_crime_data = \"hate_crime copy.csv\"\n",
    "crime = pd.read_csv(hate_crime_data)\n",
    "crime.head()"
   ]
  },
  {
   "cell_type": "code",
   "execution_count": null,
   "id": "3728ecf6",
   "metadata": {},
   "outputs": [],
   "source": [
    "VALUES = []\n",
    "V1 = [sub['value'] for sub in json_crime_data['data']]\n",
    "VALUES.append(V1)\n",
    "\n",
    "VALUES\n",
    "\n",
    "\n",
    "YEAR = []\n",
    "Y1 = [sub['data_year'] for sub in json_crime_data['data']]\n",
    "YEAR.append(Y1)\n",
    "\n",
    "YEAR\n",
    "\n",
    "\n",
    "MONTH_NUM = []\n",
    "M1 = [sub['month_num'] for sub in json_crime_data['data']]\n",
    "MONTH_NUM.append(M1)\n",
    "\n",
    "MONTH_NUM\n",
    "\n",
    "\n",
    "KEY = []\n",
    "K1 = [sub['key'] for sub in json_crime_data['data']]\n",
    "KEY.append(K1)\n",
    "\n",
    "KEY"
   ]
  },
  {
   "cell_type": "code",
   "execution_count": null,
   "id": "f0f7a2f9",
   "metadata": {},
   "outputs": [],
   "source": [
    "hate_crime_dict= {'Value':[],\n",
    "               'Data_year':[],\n",
    "               'Month_num': [],\n",
    "               'Type of Hate Crime':[]}\n",
    "\n",
    "\n",
    "#K = 'value'\n",
    "#L = 'data_year'\n",
    "#M = 'month_num'\n",
    "#N = 'key'\n",
    "#K1 = [sub[K]for sub in json_crime_data['data'] if K in sub][0]\n",
    "#hate_crime_dict['Value'].append(K1)\n",
    "\n",
    "for items in VALUES:\n",
    "    base_url = \"https://api.usa.gov/crime/fbi/sapi/api/hatecrime/states/IL/BIAS_INCIDENT?API_KEY=\" + crime_api_key\n",
    "    try:\n",
    "        req_crime = requests.get(base_url)\n",
    "        json_crime_data = req_crime.json()\n",
    "        \n",
    "        V = [sub['value'] for sub in json_crime_data['data']]\n",
    "        hate_crime_dict['Value'].append(V)\n",
    "        \n",
    "    except:\n",
    "        pass "
   ]
  },
  {
   "cell_type": "code",
   "execution_count": null,
   "id": "f3f9cb9a",
   "metadata": {},
   "outputs": [],
   "source": [
    "for items in YEAR:\n",
    "    base_url = \"https://api.usa.gov/crime/fbi/sapi/api/hatecrime/states/IL/BIAS_INCIDENT?API_KEY=\" + crime_api_key\n",
    "    try:\n",
    "        req_crime = requests.get(base_url)\n",
    "        json_crime_data = req_crime.json()\n",
    "        \n",
    "        DY = [sub['data_year'] for sub in json_crime_data['data']]\n",
    "        hate_crime_dict['Data_year'].append(DY)\n",
    "        \n",
    "    except:\n",
    "        pass "
   ]
  },
  {
   "cell_type": "code",
   "execution_count": null,
   "id": "bb5a96ee",
   "metadata": {},
   "outputs": [],
   "source": [
    "for items in MONTH_NUM:\n",
    "    base_url = \"https://api.usa.gov/crime/fbi/sapi/api/hatecrime/states/IL/BIAS_INCIDENT?API_KEY=\" + crime_api_key\n",
    "    try:\n",
    "        req_crime = requests.get(base_url)\n",
    "        json_crime_data = req_crime.json()\n",
    "        \n",
    "        MN = [sub['month_num'] for sub in json_crime_data['data']]\n",
    "        hate_crime_dict['Data_year'].append(MN)\n",
    "        \n",
    "    except:\n",
    "        pass "
   ]
  },
  {
   "cell_type": "code",
   "execution_count": null,
   "id": "95fbfad8",
   "metadata": {},
   "outputs": [],
   "source": [
    "for items in KEY:\n",
    "    base_url = \"https://api.usa.gov/crime/fbi/sapi/api/hatecrime/states/IL/BIAS_INCIDENT?API_KEY=\" + crime_api_key\n",
    "    try:\n",
    "        req_crime = requests.get(base_url)\n",
    "        json_crime_data = req_crime.json()\n",
    "        \n",
    "        HC = [sub['key'] for sub in json_crime_data['data']]\n",
    "        hate_crime_dict['Type of Hate Crime'].append(HC)\n",
    "        \n",
    "    except:\n",
    "        pass"
   ]
  },
  {
   "cell_type": "code",
   "execution_count": null,
   "id": "15238213",
   "metadata": {},
   "outputs": [],
   "source": [
    "#search up unpacking again\n",
    "\n",
    "\n",
    "{i:j for i,j in hate_crime_dict.items() }"
   ]
  },
  {
   "cell_type": "code",
   "execution_count": null,
   "id": "0ae4c6e9",
   "metadata": {},
   "outputs": [],
   "source": [
    "#Endpoint Name: 'State level Hate Crime Count Endpoint'\n",
    "#Endpoint: /api/hatecrime/states/{stateAbbr}/{variable}\n",
    "#Parameters: IL, BIAS_INCIDENT\n",
    "\n",
    "\n",
    "base_url = \"https://api.usa.gov/crime/fbi/sapi/api/hatecrime/states/IL/BIAS_INCIDENT?API_KEY=\" + crime_api_key\n",
    "req_crime = requests.get(base_url)\n",
    "\n",
    "\n",
    "#create a json output of the data\n",
    "json_crime_data = req_crime.json()\n",
    "print(json_crime_data)"
   ]
  },
  {
   "cell_type": "code",
   "execution_count": null,
   "id": "af8d85bc",
   "metadata": {},
   "outputs": [],
   "source": [
    "df = pd.DataFrame(json_crime_data['data'])\n",
    "df"
   ]
  },
  {
   "cell_type": "code",
   "execution_count": null,
   "id": "f3b0a533",
   "metadata": {},
   "outputs": [],
   "source": [
    "sorted_crime_df = df.sort_values(\"data_year\", ascending=False)\n",
    "print(sorted_crime_df[\"data_year\"].value_counts())"
   ]
  },
  {
   "cell_type": "code",
   "execution_count": null,
   "id": "fbd7b580",
   "metadata": {},
   "outputs": [],
   "source": [
    "sorted_crime_df.reset_index(drop=True, inplace=True)\n",
    "hate_crime_2020 = sorted_crime_df.head(35)\n",
    "hate_crime_2020"
   ]
  },
  {
   "cell_type": "code",
   "execution_count": null,
   "id": "a54b70a2",
   "metadata": {},
   "outputs": [],
   "source": [
    "#the following function--grid()--allows me to customize how I want my gridlines to be. \n",
    "#b=true: means gird is on, color of gridlines set to blue, linestlyle is slash(-.) linewidth is .5 \n",
    "#(I made it very narrow as I wanted the main focus to be the bar and the associated values next to it)\n",
    "#finally, alpha is the level of transparency which by default is 1 but I wanted it to be more transparent. \n",
    "ax.grid(b = True, color ='blue', linestyle ='-.', linewidth = 0.5, alpha = 0.2)\n",
    " \n",
    "#the function below inverts the y axis so that\n",
    "#ax.invert_yaxis()\n",
    "\n",
    "\n",
    "\n",
    "for i in ax.patches:\n",
    "    plt.text(i.get_width()+0.2, i.get_y()+0.5,\n",
    "             str(round((i.get_width()), 2)),\n",
    "             fontsize = 10, fontweight ='Bold', color ='Red')"
   ]
  },
  {
   "cell_type": "code",
   "execution_count": null,
   "id": "493114c6",
   "metadata": {},
   "outputs": [],
   "source": [
    "#Endpoint Name: 'National level Hate Crime Count Endpoint'\n",
    "#Endpoint: /api/hatecrime/national/{offense}/{variable}\n",
    "#Parameters: BIAS_INCIDENT\n",
    "\n",
    "hate_crime_data = \"hate_crime copy.csv\"\n",
    "crime = pd.read_csv(hate_crime_data)\n",
    "crime.head()\n",
    "\n",
    "\n",
    "crime_specific = crime[[\"OFFENDER_RACE\", \"BIAS_DESC\"]]\n",
    "\n",
    "crime_specific[crime_specific[\"BIAS_DESC\"] == '...']\n",
    "\n",
    "\n",
    "print(crime_specific[\"OFFENDER_RACE\"].value_counts())"
   ]
  }
 ],
 "metadata": {
  "kernelspec": {
   "display_name": "Python 3 (ipykernel)",
   "language": "python",
   "name": "python3"
  },
  "language_info": {
   "codemirror_mode": {
    "name": "ipython",
    "version": 3
   },
   "file_extension": ".py",
   "mimetype": "text/x-python",
   "name": "python",
   "nbconvert_exporter": "python",
   "pygments_lexer": "ipython3",
   "version": "3.9.7"
  }
 },
 "nbformat": 4,
 "nbformat_minor": 5
}
